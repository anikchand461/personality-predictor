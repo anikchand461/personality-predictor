{
  "nbformat": 4,
  "nbformat_minor": 0,
  "metadata": {
    "colab": {
      "private_outputs": true,
      "provenance": [],
      "gpuType": "V28"
    },
    "kernelspec": {
      "name": "python3",
      "display_name": "Python 3"
    },
    "language_info": {
      "name": "python"
    },
    "accelerator": "TPU"
  },
  "cells": [
    {
      "cell_type": "code",
      "source": [
        "from google.colab import files\n",
        "files.upload()  # upload kaggle.json here"
      ],
      "metadata": {
        "id": "hgATgVv2rwsc"
      },
      "execution_count": null,
      "outputs": []
    },
    {
      "cell_type": "code",
      "source": [
        "!mkdir -p ~/.kaggle\n",
        "!cp kaggle.json ~/.kaggle/\n",
        "!chmod 600 ~/.kaggle/kaggle.json"
      ],
      "metadata": {
        "id": "W6VAHA0rtrpK"
      },
      "execution_count": null,
      "outputs": []
    },
    {
      "cell_type": "code",
      "execution_count": null,
      "metadata": {
        "id": "8GpXktybrqYN"
      },
      "outputs": [],
      "source": [
        "import kagglehub\n",
        "\n",
        "# Download latest version\n",
        "path = kagglehub.dataset_download(\"rakeshkapilavai/extrovert-vs-introvert-behavior-data\")\n",
        "\n",
        "print(\"Path to dataset files:\", path)"
      ]
    },
    {
      "cell_type": "code",
      "source": [
        "import os\n",
        "\n",
        "path = \"/kaggle/input/extrovert-vs-introvert-behavior-data\"\n",
        "print(\"Files in dataset folder:\", os.listdir(path))"
      ],
      "metadata": {
        "id": "m-FIM38Cs1mq"
      },
      "execution_count": null,
      "outputs": []
    },
    {
      "cell_type": "code",
      "source": [
        "import pandas as pd\n",
        "\n",
        "df = pd.read_csv('/kaggle/input/extrovert-vs-introvert-behavior-data/personality_dataset.csv')"
      ],
      "metadata": {
        "id": "r0FvY6aCuJ_R"
      },
      "execution_count": null,
      "outputs": []
    },
    {
      "cell_type": "code",
      "source": [
        "df"
      ],
      "metadata": {
        "id": "AYOB-mjnubbp"
      },
      "execution_count": null,
      "outputs": []
    },
    {
      "cell_type": "code",
      "source": [
        "df.dtypes"
      ],
      "metadata": {
        "id": "2Y52hWfBucht"
      },
      "execution_count": null,
      "outputs": []
    },
    {
      "cell_type": "code",
      "source": [
        "df['Stage_fear'] = df['Stage_fear'].replace({'Yes': 1, 'No': 0})\n",
        "df['Drained_after_socializing'] = df['Drained_after_socializing'].replace({'Yes': 1, 'No': 0})\n",
        "df['Personality'] = df['Personality'].replace({'Extrovert': 1, 'Introvert': 0})"
      ],
      "metadata": {
        "id": "-BCKR4VVuoNV"
      },
      "execution_count": null,
      "outputs": []
    },
    {
      "cell_type": "code",
      "source": [
        "df"
      ],
      "metadata": {
        "id": "HMDNyNQ9xDn1"
      },
      "execution_count": null,
      "outputs": []
    },
    {
      "cell_type": "code",
      "source": [
        "df.dtypes"
      ],
      "metadata": {
        "id": "2bAT2TiTxEnP"
      },
      "execution_count": null,
      "outputs": []
    },
    {
      "cell_type": "code",
      "source": [
        "df.corr()"
      ],
      "metadata": {
        "id": "bBbZGahIxI_m"
      },
      "execution_count": null,
      "outputs": []
    },
    {
      "cell_type": "code",
      "source": [
        "positive_corr_cols = [\n",
        "    'Social_event_attendance',\n",
        "    'Going_outside',\n",
        "    'Post_frequency',\n",
        "    'Friends_circle_size'\n",
        "]\n",
        "\n",
        "df_selected = pd.concat([df[positive_corr_cols], df['Personality']], axis=1)"
      ],
      "metadata": {
        "id": "QA8qIKSFx4YS"
      },
      "execution_count": null,
      "outputs": []
    },
    {
      "cell_type": "code",
      "source": [
        "df_selected"
      ],
      "metadata": {
        "id": "GaT99VglzaLO"
      },
      "execution_count": null,
      "outputs": []
    },
    {
      "cell_type": "code",
      "source": [
        "df_selected['Personality'].value_counts()"
      ],
      "metadata": {
        "id": "pYY624T9za0X"
      },
      "execution_count": null,
      "outputs": []
    },
    {
      "cell_type": "code",
      "source": [
        "df_selected.isnull().sum()"
      ],
      "metadata": {
        "id": "eGt8ZwVA0aH2"
      },
      "execution_count": null,
      "outputs": []
    },
    {
      "cell_type": "code",
      "source": [
        "from sklearn.impute import SimpleImputer\n",
        "\n",
        "si = SimpleImputer(strategy='mean')\n",
        "\n",
        "df_imputed = si.fit_transform(df_selected[positive_corr_cols])\n",
        "\n",
        "df_imputed = pd.DataFrame(df_imputed, columns=positive_corr_cols)"
      ],
      "metadata": {
        "id": "B5p5Yu1Z0fFB"
      },
      "execution_count": null,
      "outputs": []
    },
    {
      "cell_type": "code",
      "source": [
        "final_df = pd.concat([df_imputed, df_selected['Personality']], axis=1)"
      ],
      "metadata": {
        "id": "g1kl-Kdj1GZj"
      },
      "execution_count": null,
      "outputs": []
    },
    {
      "cell_type": "code",
      "source": [
        "final_df"
      ],
      "metadata": {
        "id": "L3L4KCVk1v5c"
      },
      "execution_count": null,
      "outputs": []
    },
    {
      "cell_type": "code",
      "source": [
        "final_df.isnull().sum()"
      ],
      "metadata": {
        "id": "uhoq9f-61xDV"
      },
      "execution_count": null,
      "outputs": []
    },
    {
      "cell_type": "code",
      "source": [
        "import matplotlib.pyplot as plt\n",
        "import seaborn as sns\n",
        "\n",
        "sns.boxplot(final_df['Friends_circle_size'])"
      ],
      "metadata": {
        "id": "thjx2q6C10wa"
      },
      "execution_count": null,
      "outputs": []
    },
    {
      "cell_type": "code",
      "source": [
        "sns.boxplot(final_df['Post_frequency'])"
      ],
      "metadata": {
        "id": "TWKzzwDu2ERj"
      },
      "execution_count": null,
      "outputs": []
    },
    {
      "cell_type": "code",
      "source": [
        "sns.boxplot(final_df['Going_outside'])"
      ],
      "metadata": {
        "id": "Ie06KrYv2Jcz"
      },
      "execution_count": null,
      "outputs": []
    },
    {
      "cell_type": "code",
      "source": [
        "sns.boxplot(df['Social_event_attendance'])"
      ],
      "metadata": {
        "id": "M07beM722V5I"
      },
      "execution_count": null,
      "outputs": []
    },
    {
      "cell_type": "markdown",
      "source": [
        "## splitting training and testing data"
      ],
      "metadata": {
        "id": "mYJ_2hHW3Q45"
      }
    },
    {
      "cell_type": "code",
      "source": [
        "from sklearn.model_selection import train_test_split\n",
        "\n",
        "X = final_df.drop('Personality', axis=1)\n",
        "y = final_df['Personality']\n",
        "\n",
        "X_train, X_test, y_train, y_test = train_test_split(X, y, random_state=42, test_size=0.2)"
      ],
      "metadata": {
        "id": "uPsVxzU43VUR"
      },
      "execution_count": null,
      "outputs": []
    },
    {
      "cell_type": "code",
      "source": [
        "X_train.shape, X_test.shape, y_train.shape, y_test.shape"
      ],
      "metadata": {
        "id": "y_8XIS6S39wh"
      },
      "execution_count": null,
      "outputs": []
    },
    {
      "cell_type": "markdown",
      "source": [
        "## model training and prediction"
      ],
      "metadata": {
        "id": "9FUXB9Z02gGx"
      }
    },
    {
      "cell_type": "code",
      "source": [
        "from sklearn.ensemble import RandomForestClassifier\n",
        "from sklearn.metrics import r2_score, accuracy_score, classification_report, confusion_matrix\n",
        "\n",
        "rfc = RandomForestClassifier(n_estimators=150)\n",
        "\n",
        "rfc.fit(X_train, y_train)"
      ],
      "metadata": {
        "id": "CMjI7sWq2dhe"
      },
      "execution_count": null,
      "outputs": []
    },
    {
      "cell_type": "code",
      "source": [
        "y_pred = rfc.predict(X_test)"
      ],
      "metadata": {
        "id": "xf2YZ7OD4Mx0"
      },
      "execution_count": null,
      "outputs": []
    },
    {
      "cell_type": "code",
      "source": [
        "accuracy_score(y_test, y_pred)"
      ],
      "metadata": {
        "id": "610dbvgdHly7"
      },
      "execution_count": null,
      "outputs": []
    },
    {
      "cell_type": "code",
      "source": [
        "confusion_matrix(y_test, y_pred)"
      ],
      "metadata": {
        "id": "ZXDAnEjgII0o"
      },
      "execution_count": null,
      "outputs": []
    },
    {
      "cell_type": "code",
      "source": [
        "cm = confusion_matrix(y_test, y_pred)\n",
        "TN, FP, FN, TP = cm.ravel()"
      ],
      "metadata": {
        "id": "okj55WlbIaqF"
      },
      "execution_count": null,
      "outputs": []
    },
    {
      "cell_type": "code",
      "source": [
        "TN, FP, FN, TP"
      ],
      "metadata": {
        "id": "Z80jPz-dJtzp"
      },
      "execution_count": null,
      "outputs": []
    },
    {
      "cell_type": "code",
      "source": [
        "accuracy = (TP + TN) / (TN+ FP+ FN+ TP)\n",
        "print(accuracy)"
      ],
      "metadata": {
        "id": "joKVlYSYKSWH"
      },
      "execution_count": null,
      "outputs": []
    },
    {
      "cell_type": "code",
      "source": [
        "Precision = TP / (TP + FP)\n",
        "print(Precision)"
      ],
      "metadata": {
        "id": "SnjbOBq5KoJj"
      },
      "execution_count": null,
      "outputs": []
    },
    {
      "cell_type": "markdown",
      "source": [
        "## query points"
      ],
      "metadata": {
        "id": "Ew5JX45FKJfd"
      }
    },
    {
      "cell_type": "code",
      "source": [
        "query_pt = [[0, 2, 0, 2]]"
      ],
      "metadata": {
        "id": "p4DkBiMq4XKh"
      },
      "execution_count": null,
      "outputs": []
    },
    {
      "cell_type": "code",
      "source": [
        "rfc.predict(query_pt)   # corret - Abhiraj's friend"
      ],
      "metadata": {
        "id": "LcySiAZU9D24"
      },
      "execution_count": null,
      "outputs": []
    },
    {
      "cell_type": "code",
      "source": [
        "query_pt2 = [[0, 2, 2, 5]]"
      ],
      "metadata": {
        "id": "Yedwi_nP9IMa"
      },
      "execution_count": null,
      "outputs": []
    },
    {
      "cell_type": "code",
      "source": [
        "rfc.predict(query_pt2)   # correct"
      ],
      "metadata": {
        "id": "l1xHMxJkBdHu"
      },
      "execution_count": null,
      "outputs": []
    },
    {
      "cell_type": "code",
      "source": [
        "query_pt3 = [[2, 6, 4, 14]]"
      ],
      "metadata": {
        "id": "TH0qCL65BgBB"
      },
      "execution_count": null,
      "outputs": []
    },
    {
      "cell_type": "code",
      "source": [
        "rfc.predict(query_pt3)     # correct"
      ],
      "metadata": {
        "id": "iTwLBiWOC9C_"
      },
      "execution_count": null,
      "outputs": []
    },
    {
      "cell_type": "code",
      "source": [
        "query_pt4 = [[1, 3, 2, 5]]\n",
        "rfc.predict(query_pt4)    # wrong"
      ],
      "metadata": {
        "id": "sl6qDOFJDBR0"
      },
      "execution_count": null,
      "outputs": []
    },
    {
      "cell_type": "code",
      "source": [
        "query_pt5 = [[1, 4, 2, 9]]\n",
        "rfc.predict(query_pt5)     # correct"
      ],
      "metadata": {
        "id": "5MR0U6rxN84i"
      },
      "execution_count": null,
      "outputs": []
    },
    {
      "cell_type": "code",
      "source": [
        "query_pt6 = [[2, 3, 1, 3]]\n",
        "rfc.predict(query_pt6)     # correct"
      ],
      "metadata": {
        "id": "QOouCngqP0l9"
      },
      "execution_count": null,
      "outputs": []
    },
    {
      "cell_type": "code",
      "source": [
        "query_pt7 = [[2, 2, 3, 20]]\n",
        "rfc.predict(query_pt7)     # correct"
      ],
      "metadata": {
        "id": "o6wn4IzeTInz"
      },
      "execution_count": null,
      "outputs": []
    },
    {
      "cell_type": "code",
      "source": [
        "query_pt8 = [[3, 3, 3, 6]]\n",
        "rfc.predict(query_pt8)      # wrong"
      ],
      "metadata": {
        "id": "-DPgXWQiakvn"
      },
      "execution_count": null,
      "outputs": []
    },
    {
      "cell_type": "code",
      "source": [
        "query_pt9 = [[3, 3, 0, 3]]\n",
        "rfc.predict(query_pt9)      #"
      ],
      "metadata": {
        "id": "12IF2WzjeB_j"
      },
      "execution_count": null,
      "outputs": []
    },
    {
      "cell_type": "code",
      "source": [
        "import joblib\n",
        "joblib.dump(rfc, \"personality.pkl\")"
      ],
      "metadata": {
        "id": "LEdol8RhYMQ_"
      },
      "execution_count": null,
      "outputs": []
    },
    {
      "cell_type": "code",
      "source": [],
      "metadata": {
        "id": "ofzmMMlpaTcA"
      },
      "execution_count": null,
      "outputs": []
    }
  ]
}